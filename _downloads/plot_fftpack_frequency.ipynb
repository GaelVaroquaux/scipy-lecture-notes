{
  "nbformat_minor": 0, 
  "nbformat": 4, 
  "cells": [
    {
      "execution_count": null, 
      "cell_type": "code", 
      "source": [
        "%matplotlib inline"
      ], 
      "outputs": [], 
      "metadata": {
        "collapsed": false
      }
    }, 
    {
      "source": [
        "\n# Peak FFT frequency\n\n\n\n"
      ], 
      "cell_type": "markdown", 
      "metadata": {}
    }, 
    {
      "execution_count": null, 
      "cell_type": "code", 
      "source": [
        "import numpy as np\nfrom scipy import fftpack\nfrom matplotlib import pyplot as plt\n\n# Generate the signal\n# -------------------\n\n# Seed the random number generator\nnp.random.seed(1234)\n\ntime_step = 0.02\nperiod = 5.\n\ntime_vec = np.arange(0, 20, time_step)\nsig = (np.sin(2 * np.pi / period * time_vec)\n       + 0.5 * np.random.randn(time_vec.size))\n\n# Compute and plot the power and zoom around the peak\n# ---------------------------------------------------\n\nsample_freq = fftpack.fftfreq(sig.size, d=time_step)\nsig_fft = fftpack.fft(sig)\npidxs = np.where(sample_freq > 0)\nfreqs = sample_freq[pidxs]\npower = np.abs(sig_fft)[pidxs]\n\n# Plot the FFT power\nplt.plot(freqs, power)\nplt.xlabel('Frequency [Hz]')\nplt.ylabel('plower')\n\nfreq = freqs[power.argmax()]\n\n# An inner plot to show the peak frequency\naxes = plt.axes([0.3, 0.3, 0.5, 0.5])\nplt.title('Peak frequency')\nplt.plot(freqs[:8], power[:8])\nplt.setp(axes, yticks=[])\n\nplt.show()"
      ], 
      "outputs": [], 
      "metadata": {
        "collapsed": false
      }
    }
  ], 
  "metadata": {
    "kernelspec": {
      "display_name": "Python 2", 
      "name": "python2", 
      "language": "python"
    }, 
    "language_info": {
      "mimetype": "text/x-python", 
      "nbconvert_exporter": "python", 
      "name": "python", 
      "file_extension": ".py", 
      "version": "2.7.12", 
      "pygments_lexer": "ipython2", 
      "codemirror_mode": {
        "version": 2, 
        "name": "ipython"
      }
    }
  }
}