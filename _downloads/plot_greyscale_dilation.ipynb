{
  "nbformat_minor": 0, 
  "nbformat": 4, 
  "cells": [
    {
      "execution_count": null, 
      "cell_type": "code", 
      "source": [
        "%matplotlib inline"
      ], 
      "outputs": [], 
      "metadata": {
        "collapsed": false
      }
    }, 
    {
      "source": [
        "\nGreyscale dilation\n====================\n\nThis example illustrates greyscale mathematical morphology.\n\n"
      ], 
      "cell_type": "markdown", 
      "metadata": {}
    }, 
    {
      "execution_count": null, 
      "cell_type": "code", 
      "source": [
        "import numpy as np\nfrom scipy import ndimage\nimport matplotlib.pyplot as plt\n\nim = np.zeros((64, 64))\nnp.random.seed(2)\nx, y = (63*np.random.random((2, 8))).astype(np.int)\nim[x, y] = np.arange(8)\n\nbigger_points = ndimage.grey_dilation(im, size=(5, 5), structure=np.ones((5, 5)))\n\nsquare = np.zeros((16, 16))\nsquare[4:-4, 4:-4] = 1\ndist = ndimage.distance_transform_bf(square)\ndilate_dist = ndimage.grey_dilation(dist, size=(3, 3), \\\n        structure=np.ones((3, 3)))\n\nplt.figure(figsize=(12.5, 3))\nplt.subplot(141)\nplt.imshow(im, interpolation='nearest', cmap=plt.cm.spectral)\nplt.axis('off')\nplt.subplot(142)\nplt.imshow(bigger_points, interpolation='nearest', cmap=plt.cm.spectral)\nplt.axis('off')\nplt.subplot(143)\nplt.imshow(dist, interpolation='nearest', cmap=plt.cm.spectral)\nplt.axis('off')\nplt.subplot(144)\nplt.imshow(dilate_dist, interpolation='nearest', cmap=plt.cm.spectral)\nplt.axis('off')\n\nplt.subplots_adjust(wspace=0, hspace=0.02, top=0.99, bottom=0.01, left=0.01, right=0.99)\nplt.show()"
      ], 
      "outputs": [], 
      "metadata": {
        "collapsed": false
      }
    }
  ], 
  "metadata": {
    "kernelspec": {
      "display_name": "Python 2", 
      "name": "python2", 
      "language": "python"
    }, 
    "language_info": {
      "mimetype": "text/x-python", 
      "nbconvert_exporter": "python", 
      "name": "python", 
      "file_extension": ".py", 
      "version": "2.7.12", 
      "pygments_lexer": "ipython2", 
      "codemirror_mode": {
        "version": 2, 
        "name": "ipython"
      }
    }
  }
}