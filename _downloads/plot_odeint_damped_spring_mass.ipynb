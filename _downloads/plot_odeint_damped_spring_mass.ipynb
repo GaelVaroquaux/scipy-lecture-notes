{
  "nbformat_minor": 0, 
  "nbformat": 4, 
  "cells": [
    {
      "execution_count": null, 
      "cell_type": "code", 
      "source": [
        "%matplotlib inline"
      ], 
      "outputs": [], 
      "metadata": {
        "collapsed": false
      }
    }, 
    {
      "source": [
        "\n# Integrate the Damped spring-mass oscillator\n\n\n\n\n"
      ], 
      "cell_type": "markdown", 
      "metadata": {}
    }, 
    {
      "execution_count": null, 
      "cell_type": "code", 
      "source": [
        "import numpy as np\nfrom scipy.integrate import odeint\nfrom matplotlib import pyplot as plt\n\nmass = 0.5  # kg\nkspring = 4  # N/m\ncviscous = 0.4  # N s/m\n\n\neps = cviscous / (2 * mass * np.sqrt(kspring/mass))\nomega = np.sqrt(kspring / mass)\n\n\ndef calc_deri(yvec, time, eps, omega):\n    return (yvec[1], -eps * omega * yvec[1] - omega **2 * yvec[0])\n\ntime_vec = np.linspace(0, 10, 100)\nyinit = (1, 0)\nyarr = odeint(calc_deri, yinit, time_vec, args=(eps, omega))\n\nplt.figure(figsize=(4, 3))\nplt.plot(time_vec, yarr[:, 0], label='y')\nplt.plot(time_vec, yarr[:, 1], label=\"y'\")\nplt.legend(loc='best')\nplt.show()"
      ], 
      "outputs": [], 
      "metadata": {
        "collapsed": false
      }
    }
  ], 
  "metadata": {
    "kernelspec": {
      "display_name": "Python 2", 
      "name": "python2", 
      "language": "python"
    }, 
    "language_info": {
      "mimetype": "text/x-python", 
      "nbconvert_exporter": "python", 
      "name": "python", 
      "file_extension": ".py", 
      "version": "2.7.12", 
      "pygments_lexer": "ipython2", 
      "codemirror_mode": {
        "version": 2, 
        "name": "ipython"
      }
    }
  }
}