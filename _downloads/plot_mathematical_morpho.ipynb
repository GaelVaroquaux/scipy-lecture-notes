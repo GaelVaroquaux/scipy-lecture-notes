{
  "nbformat_minor": 0, 
  "nbformat": 4, 
  "cells": [
    {
      "execution_count": null, 
      "cell_type": "code", 
      "source": [
        "%matplotlib inline"
      ], 
      "outputs": [], 
      "metadata": {
        "collapsed": false
      }
    }, 
    {
      "source": [
        "\n# Demo mathematical morphology\n\n\nA basic demo of binary opening and closing.\n\n"
      ], 
      "cell_type": "markdown", 
      "metadata": {}
    }, 
    {
      "execution_count": null, 
      "cell_type": "code", 
      "source": [
        "# Generate some binary data\nimport numpy as np\nnp.random.seed(0)\na = np.zeros((50, 50))\na[10:-10, 10:-10] = 1\na += 0.25 * np.random.standard_normal(a.shape)\nmask = a>=0.5\n\n# Apply mathematical morphology\nfrom scipy import ndimage\nopened_mask = ndimage.binary_opening(mask)\nclosed_mask = ndimage.binary_closing(opened_mask)\n\n# Plot\nfrom matplotlib import pyplot as plt\n\nplt.figure(figsize=(12, 3.5))\nplt.subplot(141)\nplt.imshow(a, cmap=plt.cm.gray)\nplt.axis('off')\nplt.title('a')\n\nplt.subplot(142)\nplt.imshow(mask, cmap=plt.cm.gray)\nplt.axis('off')\nplt.title('mask')\n\nplt.subplot(143)\nplt.imshow(opened_mask, cmap=plt.cm.gray)\nplt.axis('off')\nplt.title('opened_mask')\n\nplt.subplot(144)\nplt.imshow(closed_mask, cmap=plt.cm.gray)\nplt.title('closed_mask')\nplt.axis('off')\n\nplt.subplots_adjust(wspace=.05, left=.01, bottom=.01, right=.99, top=.99)\n\nplt.show()"
      ], 
      "outputs": [], 
      "metadata": {
        "collapsed": false
      }
    }
  ], 
  "metadata": {
    "kernelspec": {
      "display_name": "Python 2", 
      "name": "python2", 
      "language": "python"
    }, 
    "language_info": {
      "mimetype": "text/x-python", 
      "nbconvert_exporter": "python", 
      "name": "python", 
      "file_extension": ".py", 
      "version": "2.7.12", 
      "pygments_lexer": "ipython2", 
      "codemirror_mode": {
        "version": 2, 
        "name": "ipython"
      }
    }
  }
}