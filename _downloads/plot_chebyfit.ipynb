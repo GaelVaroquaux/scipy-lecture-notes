{
  "nbformat_minor": 0, 
  "nbformat": 4, 
  "cells": [
    {
      "execution_count": null, 
      "cell_type": "code", 
      "source": [
        "%matplotlib inline"
      ], 
      "outputs": [], 
      "metadata": {
        "collapsed": false
      }
    }, 
    {
      "source": [
        "\nFitting in Chebyshev basis\n==========================\n\nPlot noisy data and their polynomial fit in a Chebyshev basis\n\n\n"
      ], 
      "cell_type": "markdown", 
      "metadata": {}
    }, 
    {
      "execution_count": null, 
      "cell_type": "code", 
      "source": [
        "import numpy as np\nimport matplotlib.pyplot as plt\n\nnp.random.seed(0)\n\nx = np.linspace(-1, 1, 2000)\ny = np.cos(x) + 0.3*np.random.rand(2000)\np = np.polynomial.Chebyshev.fit(x, y, 90)\n\nt = np.linspace(-1, 1, 200)\nplt.plot(x, y, 'r.')   \nplt.plot(t, p(t), 'k-', lw=3)   \nplt.show()"
      ], 
      "outputs": [], 
      "metadata": {
        "collapsed": false
      }
    }
  ], 
  "metadata": {
    "kernelspec": {
      "display_name": "Python 2", 
      "name": "python2", 
      "language": "python"
    }, 
    "language_info": {
      "mimetype": "text/x-python", 
      "nbconvert_exporter": "python", 
      "name": "python", 
      "file_extension": ".py", 
      "version": "2.7.12", 
      "pygments_lexer": "ipython2", 
      "codemirror_mode": {
        "version": 2, 
        "name": "ipython"
      }
    }
  }
}