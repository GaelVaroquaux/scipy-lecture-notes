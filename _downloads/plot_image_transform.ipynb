{
  "nbformat_minor": 0, 
  "nbformat": 4, 
  "cells": [
    {
      "execution_count": null, 
      "cell_type": "code", 
      "source": [
        "%matplotlib inline"
      ], 
      "outputs": [], 
      "metadata": {
        "collapsed": false
      }
    }, 
    {
      "source": [
        "\n# Plot geometrical transformations on images\n\n\nDemo geometrical transformations of images.\n\n"
      ], 
      "cell_type": "markdown", 
      "metadata": {}
    }, 
    {
      "execution_count": null, 
      "cell_type": "code", 
      "source": [
        "# Load some data\nfrom scipy import misc\nface = misc.face(gray=True)\n\n# Apply a variety of transformations\nfrom scipy import ndimage\nfrom matplotlib import pyplot as plt\nshifted_face = ndimage.shift(face, (50, 50))\nshifted_face2 = ndimage.shift(face, (50, 50), mode='nearest')\nrotated_face = ndimage.rotate(face, 30)\ncropped_face = face[50:-50, 50:-50]\nzoomed_face = ndimage.zoom(face, 2)\nzoomed_face.shape\n\nplt.figure(figsize=(15, 3))\nplt.subplot(151)\nplt.imshow(shifted_face, cmap=plt.cm.gray)\nplt.axis('off')\n\nplt.subplot(152)\nplt.imshow(shifted_face2, cmap=plt.cm.gray)\nplt.axis('off')\n\nplt.subplot(153)\nplt.imshow(rotated_face, cmap=plt.cm.gray)\nplt.axis('off')\n\nplt.subplot(154)\nplt.imshow(cropped_face, cmap=plt.cm.gray)\nplt.axis('off')\n\nplt.subplot(155)\nplt.imshow(zoomed_face, cmap=plt.cm.gray)\nplt.axis('off')\n\nplt.subplots_adjust(wspace=.05, left=.01, bottom=.01, right=.99, top=.99)\n\nplt.show()"
      ], 
      "outputs": [], 
      "metadata": {
        "collapsed": false
      }
    }
  ], 
  "metadata": {
    "kernelspec": {
      "display_name": "Python 2", 
      "name": "python2", 
      "language": "python"
    }, 
    "language_info": {
      "mimetype": "text/x-python", 
      "nbconvert_exporter": "python", 
      "name": "python", 
      "file_extension": ".py", 
      "version": "2.7.12", 
      "pygments_lexer": "ipython2", 
      "codemirror_mode": {
        "version": 2, 
        "name": "ipython"
      }
    }
  }
}