{
  "nbformat_minor": 0, 
  "nbformat": 4, 
  "cells": [
    {
      "execution_count": null, 
      "cell_type": "code", 
      "source": [
        "%matplotlib inline"
      ], 
      "outputs": [], 
      "metadata": {
        "collapsed": false
      }
    }, 
    {
      "source": [
        "\nHistogram segmentation\n======================\n\nThis example does simple histogram analysis to perform segmentation.\n\n"
      ], 
      "cell_type": "markdown", 
      "metadata": {}
    }, 
    {
      "execution_count": null, 
      "cell_type": "code", 
      "source": [
        "import numpy as np\nfrom scipy import ndimage\nimport matplotlib.pyplot as plt\n\nnp.random.seed(1)\nn = 10\nl = 256\nim = np.zeros((l, l))\npoints = l*np.random.random((2, n**2))\nim[(points[0]).astype(np.int), (points[1]).astype(np.int)] = 1\nim = ndimage.gaussian_filter(im, sigma=l/(4.*n))\n\nmask = (im > im.mean()).astype(np.float)\n\nmask += 0.1 * im\n\nimg = mask + 0.2*np.random.randn(*mask.shape)\n\nhist, bin_edges = np.histogram(img, bins=60)\nbin_centers = 0.5*(bin_edges[:-1] + bin_edges[1:])\n\nbinary_img = img > 0.5\n\nplt.figure(figsize=(11,4))\n\nplt.subplot(131)\nplt.imshow(img)\nplt.axis('off')\nplt.subplot(132)\nplt.plot(bin_centers, hist, lw=2)\nplt.axvline(0.5, color='r', ls='--', lw=2)\nplt.text(0.57, 0.8, 'histogram', fontsize=20, transform = plt.gca().transAxes)\nplt.yticks([])\nplt.subplot(133)\nplt.imshow(binary_img, cmap=plt.cm.gray, interpolation='nearest')\nplt.axis('off')\n\nplt.subplots_adjust(wspace=0.02, hspace=0.3, top=1, bottom=0.1, left=0, right=1)\nplt.show()"
      ], 
      "outputs": [], 
      "metadata": {
        "collapsed": false
      }
    }
  ], 
  "metadata": {
    "kernelspec": {
      "display_name": "Python 2", 
      "name": "python2", 
      "language": "python"
    }, 
    "language_info": {
      "mimetype": "text/x-python", 
      "nbconvert_exporter": "python", 
      "name": "python", 
      "file_extension": ".py", 
      "version": "2.7.12", 
      "pygments_lexer": "ipython2", 
      "codemirror_mode": {
        "version": 2, 
        "name": "ipython"
      }
    }
  }
}