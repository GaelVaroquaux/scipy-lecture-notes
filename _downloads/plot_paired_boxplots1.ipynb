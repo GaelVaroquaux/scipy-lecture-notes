{
  "nbformat_minor": 0, 
  "nbformat": 4, 
  "cells": [
    {
      "execution_count": null, 
      "cell_type": "code", 
      "source": [
        "%matplotlib inline"
      ], 
      "outputs": [], 
      "metadata": {
        "collapsed": false
      }
    }, 
    {
      "source": [
        "\nBoxplots and paired differences\n=================================================\n\nPlot boxplots for FSIQ, PIQ, and the paired difference between the two:\nwhile the spread (error bars) for FSIQ and PIQ are very large, there is a\nsystematic (common) effect due to the subjects. This effect is cancelled\nout in the difference and the spread of the difference (\"paired\" by\nsubject) is much smaller than the spread of the individual measures.\n\n\n"
      ], 
      "cell_type": "markdown", 
      "metadata": {}
    }, 
    {
      "execution_count": null, 
      "cell_type": "code", 
      "source": [
        "import pandas\n\nimport matplotlib.pyplot as plt\n\ndata = pandas.read_csv('brain_size.csv', sep=';', na_values='.')\n\n# Box plot of FSIQ and PIQ (different measures od IQ)\nplt.figure(figsize=(4, 3))\ndata.boxplot(column=['FSIQ', 'PIQ'])\n\n# Boxplot of the difference\nplt.figure(figsize=(4, 3))\nplt.boxplot(data['FSIQ'] - data['PIQ'])\nplt.xticks((1, ), ('FSIQ - PIQ', ))\n\nplt.show()"
      ], 
      "outputs": [], 
      "metadata": {
        "collapsed": false
      }
    }
  ], 
  "metadata": {
    "kernelspec": {
      "display_name": "Python 2", 
      "name": "python2", 
      "language": "python"
    }, 
    "language_info": {
      "mimetype": "text/x-python", 
      "nbconvert_exporter": "python", 
      "name": "python", 
      "file_extension": ".py", 
      "version": "2.7.12", 
      "pygments_lexer": "ipython2", 
      "codemirror_mode": {
        "version": 2, 
        "name": "ipython"
      }
    }
  }
}