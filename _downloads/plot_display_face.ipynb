{
  "nbformat_minor": 0, 
  "nbformat": 4, 
  "cells": [
    {
      "execution_count": null, 
      "cell_type": "code", 
      "source": [
        "%matplotlib inline"
      ], 
      "outputs": [], 
      "metadata": {
        "collapsed": false
      }
    }, 
    {
      "source": [
        "\nDisplay a Racoon Face\n=====================\n\nAn example that displays a racoon face with matplotlib.\n\n"
      ], 
      "cell_type": "markdown", 
      "metadata": {}
    }, 
    {
      "execution_count": null, 
      "cell_type": "code", 
      "source": [
        "import scipy.misc\nimport matplotlib.pyplot as plt\n\nf = scipy.misc.face(gray=True)\n\nplt.figure(figsize=(10, 3.6))\n\nplt.subplot(131)\nplt.imshow(f, cmap=plt.cm.gray)\n\nplt.subplot(132)\nplt.imshow(f, cmap=plt.cm.gray, vmin=30, vmax=200)\nplt.axis('off')\n\nplt.subplot(133)\nplt.imshow(f, cmap=plt.cm.gray)\nplt.contour(f, [50, 200])\nplt.axis('off')\n\nplt.subplots_adjust(wspace=0, hspace=0., top=0.99, bottom=0.01, left=0.05,\n                    right=0.99)\nplt.show()"
      ], 
      "outputs": [], 
      "metadata": {
        "collapsed": false
      }
    }
  ], 
  "metadata": {
    "kernelspec": {
      "display_name": "Python 2", 
      "name": "python2", 
      "language": "python"
    }, 
    "language_info": {
      "mimetype": "text/x-python", 
      "nbconvert_exporter": "python", 
      "name": "python", 
      "file_extension": ".py", 
      "version": "2.7.12", 
      "pygments_lexer": "ipython2", 
      "codemirror_mode": {
        "version": 2, 
        "name": "ipython"
      }
    }
  }
}