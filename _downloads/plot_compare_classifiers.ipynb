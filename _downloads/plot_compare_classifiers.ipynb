{
  "nbformat_minor": 0, 
  "nbformat": 4, 
  "cells": [
    {
      "execution_count": null, 
      "cell_type": "code", 
      "source": [
        "%matplotlib inline"
      ], 
      "outputs": [], 
      "metadata": {
        "collapsed": false
      }
    }, 
    {
      "source": [
        "\nCompare classifiers on the digits data\n=======================================\n\nCompare the performance of a variety of classifiers on a test set for the\ndigits data.\n\n"
      ], 
      "cell_type": "markdown", 
      "metadata": {}
    }, 
    {
      "execution_count": null, 
      "cell_type": "code", 
      "source": [
        "from sklearn import model_selection, datasets, metrics\nfrom sklearn.svm import LinearSVC\nfrom sklearn.naive_bayes import GaussianNB\nfrom sklearn.neighbors import KNeighborsClassifier\n\ndigits = datasets.load_digits()\nX = digits.data\ny = digits.target\nX_train, X_test, y_train, y_test = model_selection.train_test_split(X, y,\n                            test_size=0.25, random_state=0)\n\nfor Model in [LinearSVC, GaussianNB, KNeighborsClassifier]:\n    clf = Model().fit(X_train, y_train)\n    y_pred = clf.predict(X_test)\n    print('%s: %s' %\n          (Model.__name__, metrics.f1_score(y_test, y_pred, average=\"macro\")))\n\nprint('------------------')\n\n# test SVC loss\nfor loss in ['l1', 'l2']:\n    clf = LinearSVC(loss=loss).fit(X_train, y_train)\n    y_pred = clf.predict(X_test)\n    print(\"LinearSVC(loss='{0}'): {1}\".format(loss,\n          metrics.f1_score(y_test, y_pred, average=\"macro\")))\n\nprint('-------------------')\n\n# test the number of neighbors\nfor n_neighbors in range(1, 11):\n    clf = KNeighborsClassifier(n_neighbors=n_neighbors).fit(X_train, y_train)\n    y_pred = clf.predict(X_test)\n    print(\"KNeighbors(n_neighbors={0}): {1}\".format(n_neighbors,\n        metrics.f1_score(y_test, y_pred, average=\"macro\")))"
      ], 
      "outputs": [], 
      "metadata": {
        "collapsed": false
      }
    }
  ], 
  "metadata": {
    "kernelspec": {
      "display_name": "Python 2", 
      "name": "python2", 
      "language": "python"
    }, 
    "language_info": {
      "mimetype": "text/x-python", 
      "nbconvert_exporter": "python", 
      "name": "python", 
      "file_extension": ".py", 
      "version": "2.7.12", 
      "pygments_lexer": "ipython2", 
      "codemirror_mode": {
        "version": 2, 
        "name": "ipython"
      }
    }
  }
}