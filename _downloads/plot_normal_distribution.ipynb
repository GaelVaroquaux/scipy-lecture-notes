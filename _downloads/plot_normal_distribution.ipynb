{
  "nbformat_minor": 0, 
  "nbformat": 4, 
  "cells": [
    {
      "execution_count": null, 
      "cell_type": "code", 
      "source": [
        "%matplotlib inline"
      ], 
      "outputs": [], 
      "metadata": {
        "collapsed": false
      }
    }, 
    {
      "source": [
        "\n=======================================\nNormal distribution: histogram and PDF\n=======================================\n\nExplore the normal distribution: a histogram built from samples and the\nPDF (probability density function).\n\n"
      ], 
      "cell_type": "markdown", 
      "metadata": {}
    }, 
    {
      "execution_count": null, 
      "cell_type": "code", 
      "source": [
        "import numpy as np\n\n# Sample from a normal distribution using numpy's random number generator\nsamples = np.random.normal(size=10000)\n\n# Compute a histogram of the sample\nbins = np.linspace(-5, 5, 30)\nhistogram, bins = np.histogram(samples, bins=bins, normed=True)\n\nbin_centers = 0.5*(bins[1:] + bins[:-1])\n\n# Compute the PDF on the bin centers from scipy distribution object\nfrom scipy import stats\npdf = stats.norm.pdf(bin_centers)\n\nfrom matplotlib import pyplot as plt\nplt.figure(figsize=(6, 4))\nplt.plot(bin_centers, histogram, label=\"Histogram of samples\")\nplt.plot(bin_centers, pdf, label=\"PDF\")\nplt.legend()\nplt.show()"
      ], 
      "outputs": [], 
      "metadata": {
        "collapsed": false
      }
    }
  ], 
  "metadata": {
    "kernelspec": {
      "display_name": "Python 2", 
      "name": "python2", 
      "language": "python"
    }, 
    "language_info": {
      "mimetype": "text/x-python", 
      "nbconvert_exporter": "python", 
      "name": "python", 
      "file_extension": ".py", 
      "version": "2.7.12", 
      "pygments_lexer": "ipython2", 
      "codemirror_mode": {
        "version": 2, 
        "name": "ipython"
      }
    }
  }
}