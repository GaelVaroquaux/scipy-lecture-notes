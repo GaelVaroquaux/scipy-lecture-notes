{
  "nbformat_minor": 0, 
  "nbformat": 4, 
  "cells": [
    {
      "execution_count": null, 
      "cell_type": "code", 
      "source": [
        "%matplotlib inline"
      ], 
      "outputs": [], 
      "metadata": {
        "collapsed": false
      }
    }, 
    {
      "source": [
        "\n# Image denoising by FFT\n\n\nImage denoising by implementing a blur with an FFT.\n\nImplements, via FFT, the following convolution:\n\n\\begin{align}f_1(t) = \\int dt'\\, K(t-t') f_0(t')\\end{align}\n\n\\begin{align}\\tilde{f}_1(\\omega) = \\tilde{K}(\\omega) \\tilde{f}_0(\\omega)\\end{align}\n\n\n"
      ], 
      "cell_type": "markdown", 
      "metadata": {}
    }, 
    {
      "execution_count": null, 
      "cell_type": "code", 
      "source": [
        "import numpy as np\nfrom scipy import fftpack\nimport matplotlib.pyplot as plt\n\n\ndef plot_spectrum(F):\n    plt.imshow(np.log(5 + np.abs(F)))\n\n\n# read image\nim = plt.imread('../../../../data/moonlanding.png').astype(float)\n\n# Compute the 2d FFT of the input image\nF = fftpack.fft2(im)\n\n# In the lines following, we'll make a copy of the original spectrum and\n# truncate coefficients.\n\n# Define the fraction of coefficients (in each direction) we keep\nkeep_fraction = 0.1\n\n# Call ff a copy of the original transform. Numpy arrays have a copy\n# method for this purpose.\nff = F.copy()\n\n# Set r and c to be the number of rows and columns of the array.\nr, c = ff.shape\n\n# Set to zero all rows with indices between r*keep_fraction and # r*(1-keep_fraction):\nff[r*keep_fraction:r*(1-keep_fraction)] = 0\n\n# Similarly with the columns:\nff[:, c*keep_fraction:c*(1-keep_fraction)] = 0\n\n# Reconstruct the denoised image from the filtered spectrum, keep only the\n# real part for display.\nim_new = fftpack.ifft2(ff).real\n\n# Show the results\nplt.figure(figsize=(12,8))\nplt.subplot(221)\nplt.title('Original image')\nplt.imshow(im, plt.cm.gray)\nplt.subplot(222)\nplt.title('Fourier transform')\nplot_spectrum(F)\nplt.subplot(224)\nplt.title('Filtered Spectrum')\nplot_spectrum(ff)\nplt.subplot(223)\nplt.title('Reconstructed Image')\nplt.imshow(im_new, plt.cm.gray)\n\n# Adjust the spacing between subplots for readability\nplt.subplots_adjust(hspace=0.4)\n\nplt.show()"
      ], 
      "outputs": [], 
      "metadata": {
        "collapsed": false
      }
    }
  ], 
  "metadata": {
    "kernelspec": {
      "display_name": "Python 2", 
      "name": "python2", 
      "language": "python"
    }, 
    "language_info": {
      "mimetype": "text/x-python", 
      "nbconvert_exporter": "python", 
      "name": "python", 
      "file_extension": ".py", 
      "version": "2.7.12", 
      "pygments_lexer": "ipython2", 
      "codemirror_mode": {
        "version": 2, 
        "name": "ipython"
      }
    }
  }
}