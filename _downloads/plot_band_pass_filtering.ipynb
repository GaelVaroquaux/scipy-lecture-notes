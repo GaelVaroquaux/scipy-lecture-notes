{
  "nbformat_minor": 0, 
  "nbformat": 4, 
  "cells": [
    {
      "execution_count": null, 
      "cell_type": "code", 
      "source": [
        "%matplotlib inline"
      ], 
      "outputs": [], 
      "metadata": {
        "collapsed": false
      }
    }, 
    {
      "source": [
        "\n# Band-pass filtering with FFT and windows\n\n\nThis example demonstrate :func:`scipy.fftpack.fft`,\n:func:`scipy.fftpack.fftfreq` and :func:`scipy.fftpack.ifft`. It\nimplements a basic filter that is very suboptimal, and should not be\nused.\n\n\n"
      ], 
      "cell_type": "markdown", 
      "metadata": {}
    }, 
    {
      "execution_count": null, 
      "cell_type": "code", 
      "source": [
        "import numpy as np\nfrom scipy import fftpack\nfrom matplotlib import pyplot as plt"
      ], 
      "outputs": [], 
      "metadata": {
        "collapsed": false
      }
    }, 
    {
      "source": [
        "Generate the signal\n###########################################################\n\n"
      ], 
      "cell_type": "markdown", 
      "metadata": {}
    }, 
    {
      "execution_count": null, 
      "cell_type": "code", 
      "source": [
        "# Seed the random number generator\nnp.random.seed(1234)\n\ntime_step = 0.02\ntime_vec = np.arange(0, 20, time_step)\n\n# A signal with a small frequency chirp\nsig = np.sin(0.4 * np.pi * time_vec * (1 + .1 * time_vec))\n\nnoisy_sig = sig + 0.4 * np.random.randn(time_vec.size)\n\nplt.figure(figsize=(6, 5))\nplt.plot(time_vec, noisy_sig, label='Noisy signal')\nplt.plot(time_vec, sig, linewidth=3, label='Noiseless signal')\n\nplt.legend(loc='best')"
      ], 
      "outputs": [], 
      "metadata": {
        "collapsed": false
      }
    }, 
    {
      "source": [
        "Compute and plot the power\n###########################################################\n\n"
      ], 
      "cell_type": "markdown", 
      "metadata": {}
    }, 
    {
      "execution_count": null, 
      "cell_type": "code", 
      "source": [
        "# The FFT of the signal\nsig_fft = fftpack.fft(noisy_sig)\n\n# And the power (sig_fft is of complex dtype)\npower = np.abs(sig_fft)\n\n# The corresponding frequencies\nsample_freq = fftpack.fftfreq(sig.size, d=time_step)\n\n# Plot the FFT power\nplt.figure(figsize=(6, 5))\nplt.plot(sample_freq, power)\nplt.xlabel('Frequency [Hz]')\nplt.ylabel('Power')\n\n# Find the peak frequency: we can focus on only the positive frequencies\npos_mask = np.where(sample_freq > 0)\nfreqs = sample_freq[pos_mask]\npeak_idx = power[pos_mask].argmax()\npeak_freq = freqs[peak_idx]\n\n# An inner plot to show the peak frequency\naxes = plt.axes([0.55, 0.3, 0.3, 0.5])\nplt.title('Aroud the peak\\nfrequency')\nplt.plot(freqs[:25], power[:25])\nplt.axvline(peak_freq, color='gray')\nplt.axis('tight')\nplt.setp(axes, yticks=[])\n\n# scipy.signal.find_peaks_cwt can also be used for more advanced\n# peak detection"
      ], 
      "outputs": [], 
      "metadata": {
        "collapsed": false
      }
    }, 
    {
      "source": [
        "Remove all the high frequencies\n###########################################################\n\n We now remove all the high frequencies and transform back from\n frequencies to signal.\n\n"
      ], 
      "cell_type": "markdown", 
      "metadata": {}
    }, 
    {
      "execution_count": null, 
      "cell_type": "code", 
      "source": [
        "high_freq_fft = sig_fft.copy()\nhigh_freq_fft[np.abs(sample_freq) > peak_freq] = 0\nfiltered_sig = fftpack.ifft(high_freq_fft)\n\nplt.figure(figsize=(6, 5))\nplt.plot(time_vec, filtered_sig, linewidth=3,\n         label='Noisy signal without high freqs')\nplt.plot(time_vec, sig, label='Original signal')\nplt.xlabel('Time [s]')\nplt.ylabel('Amplitude')\n\nplt.legend(loc='best')"
      ], 
      "outputs": [], 
      "metadata": {
        "collapsed": false
      }
    }, 
    {
      "source": [
        "**Note** Note how the filtering has destroyed the signal: some of the\nhigh-frequencies where part of the signal and not the noise.\n\nLet us build a bandpass filter\n\n"
      ], 
      "cell_type": "markdown", 
      "metadata": {}
    }, 
    {
      "source": [
        "Naive filtering around the peak frequency\n###########################################################\n\n Let us keep only the frequencies close to that of the signal of\n interest.\n\n"
      ], 
      "cell_type": "markdown", 
      "metadata": {}
    }, 
    {
      "execution_count": null, 
      "cell_type": "code", 
      "source": [
        "band_fft = sig_fft.copy()\nband_fft[np.abs(np.abs(sample_freq) - peak_freq) > 1] = 0\nband_sig = fftpack.ifft(band_fft)\n\nplt.figure(figsize=(6, 5))\nplt.plot(time_vec, band_sig, linewidth=3, label='Band-cut noisy signal')\nplt.plot(time_vec, sig, linewidth=2, label='Original signal')\nplt.xlabel('Time [s]')\nplt.ylabel('Amplitude')\n\nplt.legend(loc='best')"
      ], 
      "outputs": [], 
      "metadata": {
        "collapsed": false
      }
    }, 
    {
      "source": [
        "Still a bit noisy.\n\nWell, filter design is hard. Maybe we didn't should the best cut-off.\n\n"
      ], 
      "cell_type": "markdown", 
      "metadata": {}
    }, 
    {
      "source": [
        "Better band filtering around the peak frequency\n###########################################################\n\n How we filter around the peak, ie the window used, is actually crucial.\n We will now use a good window, with an optimized fall-off, rather than\n a hard cut-off.\n\n"
      ], 
      "cell_type": "markdown", 
      "metadata": {}
    }, 
    {
      "execution_count": null, 
      "cell_type": "code", 
      "source": [
        "# Create an hamming window:\nfrom scipy import signal\nwindow = signal.get_window('hamming', 2 * peak_idx)\n\nwindowed_fft = sig_fft.copy()\nwindowed_fft[np.abs(np.abs(sample_freq) - peak_freq) > 1] *= 0\nwindowed_sig = fftpack.ifft(windowed_fft)\n\nplt.figure(figsize=(6, 5))\nplt.plot(time_vec, windowed_sig, linewidth=3, label='Band-pass with window')\nplt.plot(time_vec, sig, label='Original signal')\nplt.xlabel('Time [s]')\nplt.ylabel('Amplitude')\n\nplt.legend(loc='best')"
      ], 
      "outputs": [], 
      "metadata": {
        "collapsed": false
      }
    }, 
    {
      "source": [
        "Once again, the signal is distorted.\n\n"
      ], 
      "cell_type": "markdown", 
      "metadata": {}
    }, 
    {
      "execution_count": null, 
      "cell_type": "code", 
      "source": [
        "plt.show()"
      ], 
      "outputs": [], 
      "metadata": {
        "collapsed": false
      }
    }
  ], 
  "metadata": {
    "kernelspec": {
      "display_name": "Python 2", 
      "name": "python2", 
      "language": "python"
    }, 
    "language_info": {
      "mimetype": "text/x-python", 
      "nbconvert_exporter": "python", 
      "name": "python", 
      "file_extension": ".py", 
      "version": "2.7.12", 
      "pygments_lexer": "ipython2", 
      "codemirror_mode": {
        "version": 2, 
        "name": "ipython"
      }
    }
  }
}