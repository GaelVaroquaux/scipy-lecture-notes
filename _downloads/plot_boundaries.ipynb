{
  "nbformat_minor": 0, 
  "nbformat": 4, 
  "cells": [
    {
      "execution_count": null, 
      "cell_type": "code", 
      "source": [
        "%matplotlib inline"
      ], 
      "outputs": [], 
      "metadata": {
        "collapsed": false
      }
    }, 
    {
      "source": [
        "\nSegmentation contours\n=====================\n\nVisualize segmentation contours on original grayscale image.\n\n"
      ], 
      "cell_type": "markdown", 
      "metadata": {}
    }, 
    {
      "execution_count": null, 
      "cell_type": "code", 
      "source": [
        "from skimage import data, segmentation\nfrom skimage import filters\nimport matplotlib.pyplot as plt\nimport numpy as np\n\ncoins = data.coins()\nmask = coins > filters.threshold_otsu(coins)\nclean_border = segmentation.clear_border(mask).astype(np.int)\n\ncoins_edges = segmentation.mark_boundaries(coins, clean_border)\n\nplt.figure(figsize=(8, 3.5))\nplt.subplot(121)\nplt.imshow(clean_border, cmap='gray')\nplt.axis('off')\nplt.subplot(122)\nplt.imshow(coins_edges)\nplt.axis('off')\n\nplt.tight_layout()\nplt.show()"
      ], 
      "outputs": [], 
      "metadata": {
        "collapsed": false
      }
    }
  ], 
  "metadata": {
    "kernelspec": {
      "display_name": "Python 2", 
      "name": "python2", 
      "language": "python"
    }, 
    "language_info": {
      "mimetype": "text/x-python", 
      "nbconvert_exporter": "python", 
      "name": "python", 
      "file_extension": ".py", 
      "version": "2.7.12", 
      "pygments_lexer": "ipython2", 
      "codemirror_mode": {
        "version": 2, 
        "name": "ipython"
      }
    }
  }
}