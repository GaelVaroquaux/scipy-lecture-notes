{
  "nbformat_minor": 0, 
  "nbformat": 4, 
  "cells": [
    {
      "execution_count": null, 
      "cell_type": "code", 
      "source": [
        "%matplotlib inline"
      ], 
      "outputs": [], 
      "metadata": {
        "collapsed": false
      }
    }, 
    {
      "source": [
        "\nImage denoising\n================\n\nThis example demoes image denoising on a Racoon face.\n\n"
      ], 
      "cell_type": "markdown", 
      "metadata": {}
    }, 
    {
      "execution_count": null, 
      "cell_type": "code", 
      "source": [
        "import numpy as np\nimport scipy\nimport scipy.misc\nfrom scipy import ndimage\nimport matplotlib.pyplot as plt\n\nf = scipy.misc.face(gray=True)\nf = f[230:290, 220:320]\n\nnoisy = f + 0.4*f.std()*np.random.random(f.shape)\n\ngauss_denoised = ndimage.gaussian_filter(noisy, 2)\nmed_denoised = ndimage.median_filter(noisy, 3)\n\n\nplt.figure(figsize=(12,2.8))\n\nplt.subplot(131)\nplt.imshow(noisy, cmap=plt.cm.gray, vmin=40, vmax=220)\nplt.axis('off')\nplt.title('noisy', fontsize=20)\nplt.subplot(132)\nplt.imshow(gauss_denoised, cmap=plt.cm.gray, vmin=40, vmax=220)\nplt.axis('off')\nplt.title('Gaussian filter', fontsize=20)\nplt.subplot(133)\nplt.imshow(med_denoised, cmap=plt.cm.gray, vmin=40, vmax=220)\nplt.axis('off')\nplt.title('Median filter', fontsize=20)\n\nplt.subplots_adjust(wspace=0.02, hspace=0.02, top=0.9, bottom=0, left=0,\n                    right=1)\nplt.show()"
      ], 
      "outputs": [], 
      "metadata": {
        "collapsed": false
      }
    }
  ], 
  "metadata": {
    "kernelspec": {
      "display_name": "Python 2", 
      "name": "python2", 
      "language": "python"
    }, 
    "language_info": {
      "mimetype": "text/x-python", 
      "nbconvert_exporter": "python", 
      "name": "python", 
      "file_extension": ".py", 
      "version": "2.7.12", 
      "pygments_lexer": "ipython2", 
      "codemirror_mode": {
        "version": 2, 
        "name": "ipython"
      }
    }
  }
}