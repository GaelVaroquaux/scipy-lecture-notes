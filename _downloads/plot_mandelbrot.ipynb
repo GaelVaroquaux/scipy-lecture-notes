{
  "nbformat_minor": 0, 
  "nbformat": 4, 
  "cells": [
    {
      "execution_count": null, 
      "cell_type": "code", 
      "source": [
        "%matplotlib inline"
      ], 
      "outputs": [], 
      "metadata": {
        "collapsed": false
      }
    }, 
    {
      "source": [
        "\nMandelbrot set\n==============\n\nCompute the Mandelbrot fractal and plot it\n\n\n"
      ], 
      "cell_type": "markdown", 
      "metadata": {}
    }, 
    {
      "execution_count": null, 
      "cell_type": "code", 
      "source": [
        "import numpy as np\nimport matplotlib.pyplot as plt\nfrom numpy import newaxis\n\ndef compute_mandelbrot(N_max, some_threshold, nx, ny):\n    # A grid of c-values\n    x = np.linspace(-2, 1, nx)\n    y = np.linspace(-1.5, 1.5, ny)\n\n    c = x[:,newaxis] + 1j*y[newaxis,:]\n\n    # Mandelbrot iteration\n\n    z = c\n    for j in range(N_max):\n        z = z**2 + c\n\n    mandelbrot_set = (abs(z) < some_threshold)\n\n    return mandelbrot_set\n\nmandelbrot_set = compute_mandelbrot(50, 50., 601, 401)\n\nplt.imshow(mandelbrot_set.T, extent=[-2, 1, -1.5, 1.5])\nplt.gray()\nplt.show()"
      ], 
      "outputs": [], 
      "metadata": {
        "collapsed": false
      }
    }
  ], 
  "metadata": {
    "kernelspec": {
      "display_name": "Python 2", 
      "name": "python2", 
      "language": "python"
    }, 
    "language_info": {
      "mimetype": "text/x-python", 
      "nbconvert_exporter": "python", 
      "name": "python", 
      "file_extension": ".py", 
      "version": "2.7.12", 
      "pygments_lexer": "ipython2", 
      "codemirror_mode": {
        "version": 2, 
        "name": "ipython"
      }
    }
  }
}