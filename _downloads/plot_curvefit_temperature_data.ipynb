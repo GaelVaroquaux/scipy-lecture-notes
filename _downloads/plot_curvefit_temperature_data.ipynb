{
  "nbformat_minor": 0, 
  "nbformat": 4, 
  "cells": [
    {
      "execution_count": null, 
      "cell_type": "code", 
      "source": [
        "%matplotlib inline"
      ], 
      "outputs": [], 
      "metadata": {
        "collapsed": false
      }
    }, 
    {
      "source": [
        "\n==============================================================\nCurve fitting: temperature as a function of month of the year\n==============================================================\n\nWe have the min and max temperatures in Alaska for each months of the\nyear. We would like to find a function to describe this yearly evolution.\n\nFor this, we will fit a periodic function.\n\n"
      ], 
      "cell_type": "markdown", 
      "metadata": {}
    }, 
    {
      "source": [
        "The data\n###########################################################\n\n"
      ], 
      "cell_type": "markdown", 
      "metadata": {}
    }, 
    {
      "execution_count": null, 
      "cell_type": "code", 
      "source": [
        "import numpy as np\n\ntemp_max = np.array([17,  19,  21,  28,  33,  38, 37,  37,  31,  23,  19,  18])\ntemp_min = np.array([-62, -59, -56, -46, -32, -18, -9, -13, -25, -46, -52, -58])\n\nimport matplotlib.pyplot as plt\nmonths = np.arange(12)\nplt.plot(months, temp_max, 'ro')\nplt.plot(months, temp_min, 'bo')\nplt.xlabel('Month')\nplt.ylabel('Min and max temperature')"
      ], 
      "outputs": [], 
      "metadata": {
        "collapsed": false
      }
    }, 
    {
      "source": [
        "Fitting it to a periodic function\n###########################################################\n\n"
      ], 
      "cell_type": "markdown", 
      "metadata": {}
    }, 
    {
      "execution_count": null, 
      "cell_type": "code", 
      "source": [
        "from scipy import optimize\ndef yearly_temps(times, avg, ampl, time_offset):\n    return (avg\n            + ampl * np.cos((times + time_offset) * 2 * np.pi / times.max()))\n\nres_max, cov_max = optimize.curve_fit(yearly_temps, months,\n                                      temp_max, [20, 10, 0])\nres_min, cov_min = optimize.curve_fit(yearly_temps, months,\n                                      temp_min, [-40, 20, 0])"
      ], 
      "outputs": [], 
      "metadata": {
        "collapsed": false
      }
    }, 
    {
      "source": [
        "Plotting the fit\n###########################################################\n\n"
      ], 
      "cell_type": "markdown", 
      "metadata": {}
    }, 
    {
      "execution_count": null, 
      "cell_type": "code", 
      "source": [
        "days = np.linspace(0, 12, num=365)\n\nplt.figure()\nplt.plot(months, temp_max, 'ro')\nplt.plot(days, yearly_temps(days, *res_max), 'r-')\nplt.plot(months, temp_min, 'bo')\nplt.plot(days, yearly_temps(days, *res_min), 'b-')\nplt.xlabel('Month')\nplt.ylabel('Temperature ($^\\circ$C)')\n\nplt.show()"
      ], 
      "outputs": [], 
      "metadata": {
        "collapsed": false
      }
    }
  ], 
  "metadata": {
    "kernelspec": {
      "display_name": "Python 2", 
      "name": "python2", 
      "language": "python"
    }, 
    "language_info": {
      "mimetype": "text/x-python", 
      "nbconvert_exporter": "python", 
      "name": "python", 
      "file_extension": ".py", 
      "version": "2.7.12", 
      "pygments_lexer": "ipython2", 
      "codemirror_mode": {
        "version": 2, 
        "name": "ipython"
      }
    }
  }
}