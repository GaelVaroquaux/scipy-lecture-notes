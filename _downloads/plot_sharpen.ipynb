{
  "nbformat_minor": 0, 
  "nbformat": 4, 
  "cells": [
    {
      "execution_count": null, 
      "cell_type": "code", 
      "source": [
        "%matplotlib inline"
      ], 
      "outputs": [], 
      "metadata": {
        "collapsed": false
      }
    }, 
    {
      "source": [
        "\nImage sharpening\n=================\n\nThis example shows how to sharpen an image in noiseless situation by\napplying the filter inverse to the blur.\n\n"
      ], 
      "cell_type": "markdown", 
      "metadata": {}
    }, 
    {
      "execution_count": null, 
      "cell_type": "code", 
      "source": [
        "import scipy\nfrom scipy import ndimage\nimport matplotlib.pyplot as plt\n\nf = scipy.misc.face(gray=True).astype(float)\nblurred_f = ndimage.gaussian_filter(f, 3)\n\nfilter_blurred_f = ndimage.gaussian_filter(blurred_f, 1)\n\nalpha = 30\nsharpened = blurred_f + alpha * (blurred_f - filter_blurred_f)\n\nplt.figure(figsize=(12, 4))\n\nplt.subplot(131)\nplt.imshow(f, cmap=plt.cm.gray)\nplt.axis('off')\nplt.subplot(132)\nplt.imshow(blurred_f, cmap=plt.cm.gray)\nplt.axis('off')\nplt.subplot(133)\nplt.imshow(sharpened, cmap=plt.cm.gray)\nplt.axis('off')\n\nplt.tight_layout()\nplt.show()"
      ], 
      "outputs": [], 
      "metadata": {
        "collapsed": false
      }
    }
  ], 
  "metadata": {
    "kernelspec": {
      "display_name": "Python 2", 
      "name": "python2", 
      "language": "python"
    }, 
    "language_info": {
      "mimetype": "text/x-python", 
      "nbconvert_exporter": "python", 
      "name": "python", 
      "file_extension": ".py", 
      "version": "2.7.12", 
      "pygments_lexer": "ipython2", 
      "codemirror_mode": {
        "version": 2, 
        "name": "ipython"
      }
    }
  }
}