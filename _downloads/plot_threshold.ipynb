{
  "nbformat_minor": 0, 
  "nbformat": 4, 
  "cells": [
    {
      "execution_count": null, 
      "cell_type": "code", 
      "source": [
        "%matplotlib inline"
      ], 
      "outputs": [], 
      "metadata": {
        "collapsed": false
      }
    }, 
    {
      "source": [
        "\nOtsu thresholding\n==================\n\nThis example illustrates automatic Otsu thresholding.\n\n"
      ], 
      "cell_type": "markdown", 
      "metadata": {}
    }, 
    {
      "execution_count": null, 
      "cell_type": "code", 
      "source": [
        "import matplotlib.pyplot as plt\nfrom skimage import data\ntry:\n    from skimage import filters\nexcept ImportError:\n    from skimage import filter as filters\nfrom skimage import exposure\n\ncamera = data.camera()\nval = filters.threshold_otsu(camera)\n\nhist, bins_center = exposure.histogram(camera)\n\nplt.figure(figsize=(9, 4))\nplt.subplot(131)\nplt.imshow(camera, cmap='gray', interpolation='nearest')\nplt.axis('off')\nplt.subplot(132)\nplt.imshow(camera < val, cmap='gray', interpolation='nearest')\nplt.axis('off')\nplt.subplot(133)\nplt.plot(bins_center, hist, lw=2)\nplt.axvline(val, color='k', ls='--')\n\nplt.tight_layout()\nplt.show()"
      ], 
      "outputs": [], 
      "metadata": {
        "collapsed": false
      }
    }
  ], 
  "metadata": {
    "kernelspec": {
      "display_name": "Python 2", 
      "name": "python2", 
      "language": "python"
    }, 
    "language_info": {
      "mimetype": "text/x-python", 
      "nbconvert_exporter": "python", 
      "name": "python", 
      "file_extension": ".py", 
      "version": "2.7.12", 
      "pygments_lexer": "ipython2", 
      "codemirror_mode": {
        "version": 2, 
        "name": "ipython"
      }
    }
  }
}