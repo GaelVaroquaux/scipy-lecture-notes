{
  "nbformat_minor": 0, 
  "nbformat": 4, 
  "cells": [
    {
      "execution_count": null, 
      "cell_type": "code", 
      "source": [
        "%matplotlib inline"
      ], 
      "outputs": [], 
      "metadata": {
        "collapsed": false
      }
    }, 
    {
      "source": [
        "\nPlotting simple quantities of a pandas dataframe\n=================================================\n\nThis example loads from a CSV file data with mixed numerical and\ncategorical entries, and plots a few quantities, separately for females\nand males, thanks to the pandas integrated plotting tool (that uses\nmatplotlib behind the scene).\n\nSee http://pandas.pydata.org/pandas-docs/stable/visualization.html\n\n"
      ], 
      "cell_type": "markdown", 
      "metadata": {}
    }, 
    {
      "execution_count": null, 
      "cell_type": "code", 
      "source": [
        "import pandas\n\ndata = pandas.read_csv('brain_size.csv', sep=';', na_values='.')\n\n# Box plots of different columns for each gender\ngroupby_gender = data.groupby('Gender')\ngroupby_gender.boxplot(column=['FSIQ', 'VIQ', 'PIQ'])\n\nfrom pandas.tools import plotting\n\n# Scatter matrices for different columns\nplotting.scatter_matrix(data[['Weight', 'Height', 'MRI_Count']])\nplotting.scatter_matrix(data[['PIQ', 'VIQ', 'FSIQ']])\n\nimport matplotlib.pyplot as plt\nplt.show()"
      ], 
      "outputs": [], 
      "metadata": {
        "collapsed": false
      }
    }
  ], 
  "metadata": {
    "kernelspec": {
      "display_name": "Python 2", 
      "name": "python2", 
      "language": "python"
    }, 
    "language_info": {
      "mimetype": "text/x-python", 
      "nbconvert_exporter": "python", 
      "name": "python", 
      "file_extension": ".py", 
      "version": "2.7.12", 
      "pygments_lexer": "ipython2", 
      "codemirror_mode": {
        "version": 2, 
        "name": "ipython"
      }
    }
  }
}