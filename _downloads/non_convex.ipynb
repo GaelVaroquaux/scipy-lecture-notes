{
  "metadata": {
    "language_info": {
      "pygments_lexer": "ipython3",
      "name": "python",
      "nbconvert_exporter": "python",
      "codemirror_mode": {
        "name": "ipython",
        "version": 3
      },
      "version": "3.5.4",
      "file_extension": ".py",
      "mimetype": "text/x-python"
    },
    "kernelspec": {
      "language": "python",
      "display_name": "Python 3",
      "name": "python3"
    }
  },
  "cells": [
    {
      "source": [
        "%matplotlib inline"
      ],
      "metadata": {
        "collapsed": false
      },
      "execution_count": null,
      "cell_type": "code",
      "outputs": []
    },
    {
      "source": [
        "\nNon convex\n===========\n\nDemo non-convex problems\n\n"
      ],
      "metadata": {},
      "cell_type": "markdown"
    },
    {
      "source": [
        "import numpy as np\n\nfrom mayavi import mlab\n\ndef f(x):\n    return 1 - np.exp(-x**2) + .01*x**2\n\nx, y = np.mgrid[-3:3:100j, -3:3:100j]\n\nz = f(x) + f(y)\n\nmlab.clf()\nmlab.surf(x, y, z)\nmlab.show()"
      ],
      "metadata": {
        "collapsed": false
      },
      "execution_count": null,
      "cell_type": "code",
      "outputs": []
    }
  ],
  "nbformat_minor": 0,
  "nbformat": 4
}