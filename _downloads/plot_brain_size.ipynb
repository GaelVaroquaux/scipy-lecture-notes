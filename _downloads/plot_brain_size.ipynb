{
  "nbformat_minor": 0, 
  "nbformat": 4, 
  "cells": [
    {
      "execution_count": null, 
      "cell_type": "code", 
      "source": [
        "%matplotlib inline"
      ], 
      "outputs": [], 
      "metadata": {
        "collapsed": false
      }
    }, 
    {
      "source": [
        "\nRelating Gender and IQ\n=======================\n\nGoing back to the brain size + IQ data, test if the VIQ of male and\nfemale are different after removing the effect of brain size, height and\nweight.\n\nNotice that here 'Gender' is a categorical value. As it is a non-float\ndata type, statsmodels is able to automatically infer this.\n\n\n"
      ], 
      "cell_type": "markdown", 
      "metadata": {}
    }, 
    {
      "execution_count": null, 
      "cell_type": "code", 
      "source": [
        "import pandas\nfrom statsmodels.formula.api import ols\n\ndata = pandas.read_csv('../brain_size.csv', sep=';', na_values='.')\n\nmodel = ols('VIQ ~ Gender + MRI_Count + Height', data).fit()\nprint(model.summary())\n\n# Here, we don't need to define a contrast, as we are testing a single\n# coefficient of our model, and not a combination of coefficients.\n# However, defining a contrast, which would then be a 'unit contrast',\n# will give us the same results\nprint(model.f_test([0, 1, 0, 0]))"
      ], 
      "outputs": [], 
      "metadata": {
        "collapsed": false
      }
    }, 
    {
      "source": [
        "Here we plot a scatter matrix to get intuitions on our results.\nThis goes beyond what was asked in the exercise\n\n"
      ], 
      "cell_type": "markdown", 
      "metadata": {}
    }, 
    {
      "execution_count": null, 
      "cell_type": "code", 
      "source": [
        "# This plotting is useful to get an intuitions on the relationships between\n# our different variables\n\nfrom pandas.tools import plotting\nimport matplotlib.pyplot as plt\n\n# Fill in the missing values for Height for plotting\ndata['Height'].fillna(method='pad', inplace=True)\n\n# The parameter 'c' is passed to plt.scatter and will control the color\n# The same holds for parameters 'marker', 'alpha' and 'cmap', that\n# control respectively the type of marker used, their transparency and\n# the colormap\nplotting.scatter_matrix(data[['VIQ', 'MRI_Count', 'Height']],\n                        c=(data['Gender'] == 'Female'), marker='o',\n                        alpha=1, cmap='winter')\n\nfig = plt.gcf()\nfig.suptitle(\"blue: male, green: female\", size=13)\n\nplt.show()"
      ], 
      "outputs": [], 
      "metadata": {
        "collapsed": false
      }
    }
  ], 
  "metadata": {
    "kernelspec": {
      "display_name": "Python 2", 
      "name": "python2", 
      "language": "python"
    }, 
    "language_info": {
      "mimetype": "text/x-python", 
      "nbconvert_exporter": "python", 
      "name": "python", 
      "file_extension": ".py", 
      "version": "2.7.12", 
      "pygments_lexer": "ipython2", 
      "codemirror_mode": {
        "version": 2, 
        "name": "ipython"
      }
    }
  }
}