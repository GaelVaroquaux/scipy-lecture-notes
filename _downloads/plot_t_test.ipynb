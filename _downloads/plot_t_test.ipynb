{
  "nbformat_minor": 0, 
  "nbformat": 4, 
  "cells": [
    {
      "execution_count": null, 
      "cell_type": "code", 
      "source": [
        "%matplotlib inline"
      ], 
      "outputs": [], 
      "metadata": {
        "collapsed": false
      }
    }, 
    {
      "source": [
        "\n# Comparing 2 sets of samples from Gaussians\n\n\n\n"
      ], 
      "cell_type": "markdown", 
      "metadata": {}
    }, 
    {
      "execution_count": null, 
      "cell_type": "code", 
      "source": [
        "import numpy as np\nfrom matplotlib import pyplot as plt\n\n# Generates 2 sets of observations\nsamples1 = np.random.normal(0, size=1000)\nsamples2 = np.random.normal(1, size=1000)\n\n# Compute a histogram of the sample\nbins = np.linspace(-4, 4, 30)\nhistogram1, bins = np.histogram(samples1, bins=bins, normed=True)\nhistogram2, bins = np.histogram(samples2, bins=bins, normed=True)\n\nplt.figure(figsize=(6, 4))\nplt.hist(samples1, bins=bins, normed=True, label=\"Samples 1\")\nplt.hist(samples2, bins=bins, normed=True, label=\"Samples 2\")\nplt.legend(loc='best')\nplt.show()"
      ], 
      "outputs": [], 
      "metadata": {
        "collapsed": false
      }
    }
  ], 
  "metadata": {
    "kernelspec": {
      "display_name": "Python 2", 
      "name": "python2", 
      "language": "python"
    }, 
    "language_info": {
      "mimetype": "text/x-python", 
      "nbconvert_exporter": "python", 
      "name": "python", 
      "file_extension": ".py", 
      "version": "2.7.12", 
      "pygments_lexer": "ipython2", 
      "codemirror_mode": {
        "version": 2, 
        "name": "ipython"
      }
    }
  }
}