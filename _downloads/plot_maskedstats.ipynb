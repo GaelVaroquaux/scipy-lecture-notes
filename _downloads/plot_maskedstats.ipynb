{
  "nbformat_minor": 0, 
  "nbformat": 4, 
  "cells": [
    {
      "execution_count": null, 
      "cell_type": "code", 
      "source": [
        "%matplotlib inline"
      ], 
      "outputs": [], 
      "metadata": {
        "collapsed": false
      }
    }, 
    {
      "source": [
        "\nExample: Masked statistics\n==========================\n\nPlot a masked statistics\n\n\n"
      ], 
      "cell_type": "markdown", 
      "metadata": {}
    }, 
    {
      "execution_count": null, 
      "cell_type": "code", 
      "source": [
        "import numpy as np\nimport matplotlib.pyplot as plt\n\ndata = np.loadtxt('../../../../data/populations.txt')\npopulations = np.ma.masked_array(data[:,1:])\nyear = data[:, 0]\n\nbad_years = (((year >= 1903) & (year <= 1910))\n            | ((year >= 1917) & (year <= 1918)))\npopulations[bad_years, 0] = np.ma.masked\npopulations[bad_years, 1] = np.ma.masked\n\nplt.plot(year, populations, 'o-') \nplt.show()"
      ], 
      "outputs": [], 
      "metadata": {
        "collapsed": false
      }
    }
  ], 
  "metadata": {
    "kernelspec": {
      "display_name": "Python 2", 
      "name": "python2", 
      "language": "python"
    }, 
    "language_info": {
      "mimetype": "text/x-python", 
      "nbconvert_exporter": "python", 
      "name": "python", 
      "file_extension": ".py", 
      "version": "2.7.12", 
      "pygments_lexer": "ipython2", 
      "codemirror_mode": {
        "version": 2, 
        "name": "ipython"
      }
    }
  }
}