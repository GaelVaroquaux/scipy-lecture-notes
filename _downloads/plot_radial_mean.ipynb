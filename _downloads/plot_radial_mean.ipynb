{
  "nbformat_minor": 0, 
  "nbformat": 4, 
  "cells": [
    {
      "execution_count": null, 
      "cell_type": "code", 
      "source": [
        "%matplotlib inline"
      ], 
      "outputs": [], 
      "metadata": {
        "collapsed": false
      }
    }, 
    {
      "source": [
        "\nRadial mean\n============\n\nThis example shows how to do a radial mean with scikit-image.\n\n"
      ], 
      "cell_type": "markdown", 
      "metadata": {}
    }, 
    {
      "execution_count": null, 
      "cell_type": "code", 
      "source": [
        "import numpy as np\nimport scipy\nfrom scipy import ndimage\nimport matplotlib.pyplot as plt\n\nf = scipy.misc.face(gray=True)\nsx, sy = f.shape\nX, Y = np.ogrid[0:sx, 0:sy]\n\n\nr = np.hypot(X - sx/2, Y - sy/2)\n\nrbin = (20* r/r.max()).astype(np.int)\nradial_mean = ndimage.mean(f, labels=rbin, index=np.arange(1, rbin.max() +1))\n\nplt.figure(figsize=(5, 5))\nplt.axes([0, 0, 1, 1])\nplt.imshow(rbin, cmap=plt.cm.spectral)\nplt.axis('off')\n\nplt.show()"
      ], 
      "outputs": [], 
      "metadata": {
        "collapsed": false
      }
    }
  ], 
  "metadata": {
    "kernelspec": {
      "display_name": "Python 2", 
      "name": "python2", 
      "language": "python"
    }, 
    "language_info": {
      "mimetype": "text/x-python", 
      "nbconvert_exporter": "python", 
      "name": "python", 
      "file_extension": ".py", 
      "version": "2.7.12", 
      "pygments_lexer": "ipython2", 
      "codemirror_mode": {
        "version": 2, 
        "name": "ipython"
      }
    }
  }
}