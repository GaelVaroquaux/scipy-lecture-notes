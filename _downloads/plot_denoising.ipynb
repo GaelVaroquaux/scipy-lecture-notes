{
  "nbformat_minor": 0, 
  "nbformat": 4, 
  "cells": [
    {
      "execution_count": null, 
      "cell_type": "code", 
      "source": [
        "%matplotlib inline"
      ], 
      "outputs": [], 
      "metadata": {
        "collapsed": false
      }
    }, 
    {
      "source": [
        "\nDenoising an image with the median filter\n==========================================\n\nThis example shows the original image, the noisy image, the denoised\none (with the median filter) and the difference between the two.\n\n"
      ], 
      "cell_type": "markdown", 
      "metadata": {}
    }, 
    {
      "execution_count": null, 
      "cell_type": "code", 
      "source": [
        "import numpy as np\nfrom scipy import ndimage\nimport matplotlib.pyplot as plt\n\nim = np.zeros((20, 20))\nim[5:-5, 5:-5] = 1\nim = ndimage.distance_transform_bf(im)\nim_noise = im + 0.2*np.random.randn(*im.shape)\n\nim_med = ndimage.median_filter(im_noise, 3)\n\nplt.figure(figsize=(16, 5))\n\nplt.subplot(141)\nplt.imshow(im, interpolation='nearest')\nplt.axis('off')\nplt.title('Original image', fontsize=20)\nplt.subplot(142)\nplt.imshow(im_noise, interpolation='nearest', vmin=0, vmax=5)\nplt.axis('off')\nplt.title('Noisy image', fontsize=20)\nplt.subplot(143)\nplt.imshow(im_med, interpolation='nearest', vmin=0, vmax=5)\nplt.axis('off')\nplt.title('Median filter', fontsize=20)\nplt.subplot(144)\nplt.imshow(np.abs(im - im_med), cmap=plt.cm.hot, interpolation='nearest')\nplt.axis('off')\nplt.title('Error', fontsize=20)\n\n\nplt.subplots_adjust(wspace=0.02, hspace=0.02, top=0.9, bottom=0, left=0,\n                    right=1)\n\nplt.show()"
      ], 
      "outputs": [], 
      "metadata": {
        "collapsed": false
      }
    }
  ], 
  "metadata": {
    "kernelspec": {
      "display_name": "Python 2", 
      "name": "python2", 
      "language": "python"
    }, 
    "language_info": {
      "mimetype": "text/x-python", 
      "nbconvert_exporter": "python", 
      "name": "python", 
      "file_extension": ".py", 
      "version": "2.7.12", 
      "pygments_lexer": "ipython2", 
      "codemirror_mode": {
        "version": 2, 
        "name": "ipython"
      }
    }
  }
}