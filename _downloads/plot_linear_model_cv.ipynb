{
  "nbformat_minor": 0, 
  "nbformat": 4, 
  "cells": [
    {
      "execution_count": null, 
      "cell_type": "code", 
      "source": [
        "%matplotlib inline"
      ], 
      "outputs": [], 
      "metadata": {
        "collapsed": false
      }
    }, 
    {
      "source": [
        "\n# Use the RidgeCV and LassoCV to set the regularization parameter\n\n\n\n\n"
      ], 
      "cell_type": "markdown", 
      "metadata": {}
    }, 
    {
      "source": [
        "Load the diabetes dataset\n\n"
      ], 
      "cell_type": "markdown", 
      "metadata": {}
    }, 
    {
      "execution_count": null, 
      "cell_type": "code", 
      "source": [
        "from sklearn.datasets import load_diabetes\ndata = load_diabetes()\nX, y = data.data, data.target\nprint(X.shape)"
      ], 
      "outputs": [], 
      "metadata": {
        "collapsed": false
      }
    }, 
    {
      "source": [
        "Compute the cross-validation score with the default hyper-parameters\n\n"
      ], 
      "cell_type": "markdown", 
      "metadata": {}
    }, 
    {
      "execution_count": null, 
      "cell_type": "code", 
      "source": [
        "from sklearn.model_selection import cross_val_score\nfrom sklearn.linear_model import Ridge, Lasso\n\nfor Model in [Ridge, Lasso]:\n    model = Model()\n    print('%s: %s' % (Model.__name__,\n                      cross_val_score(model, X, y).mean()))"
      ], 
      "outputs": [], 
      "metadata": {
        "collapsed": false
      }
    }, 
    {
      "source": [
        "We compute the cross-validation score as a function of alpha, the\nstrength of the regularization for Lasso and Ridge\n\n"
      ], 
      "cell_type": "markdown", 
      "metadata": {}
    }, 
    {
      "execution_count": null, 
      "cell_type": "code", 
      "source": [
        "import numpy as np\nfrom matplotlib import pyplot as plt\n\nalphas = np.logspace(-3, -1, 30)\n\nplt.figure(figsize=(5, 3))\n\nfor Model in [Lasso, Ridge]:\n    scores = [cross_val_score(Model(alpha), X, y, cv=3).mean()\n            for alpha in alphas]\n    plt.plot(alphas, scores, label=Model.__name__)\n\nplt.legend(loc='lower left')\nplt.xlabel('alpha')\nplt.ylabel('cross validation score')\nplt.tight_layout()\nplt.show()"
      ], 
      "outputs": [], 
      "metadata": {
        "collapsed": false
      }
    }
  ], 
  "metadata": {
    "kernelspec": {
      "display_name": "Python 2", 
      "name": "python2", 
      "language": "python"
    }, 
    "language_info": {
      "mimetype": "text/x-python", 
      "nbconvert_exporter": "python", 
      "name": "python", 
      "file_extension": ".py", 
      "version": "2.7.12", 
      "pygments_lexer": "ipython2", 
      "codemirror_mode": {
        "version": 2, 
        "name": "ipython"
      }
    }
  }
}