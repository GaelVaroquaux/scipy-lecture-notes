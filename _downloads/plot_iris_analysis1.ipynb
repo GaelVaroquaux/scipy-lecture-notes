{
  "nbformat_minor": 0, 
  "nbformat": 4, 
  "cells": [
    {
      "execution_count": null, 
      "cell_type": "code", 
      "source": [
        "%matplotlib inline"
      ], 
      "outputs": [], 
      "metadata": {
        "collapsed": false
      }
    }, 
    {
      "source": [
        "\nAnalysis of Iris petal and sepal sizes\n=======================================\n\nIlustrate an analysis on a real dataset:\n\n- Visualizing the data to formulate intuitions\n- Fitting of a linear model\n- Hypothesis test of the effect of a categorical variable in the presence\n  of a continuous confound\n\n\n"
      ], 
      "cell_type": "markdown", 
      "metadata": {}
    }, 
    {
      "execution_count": null, 
      "cell_type": "code", 
      "source": [
        "import matplotlib.pyplot as plt\n\nimport pandas\nfrom pandas.tools import plotting\n\nfrom statsmodels.formula.api import ols\n\n# Load the data\ndata = pandas.read_csv('iris.csv')"
      ], 
      "outputs": [], 
      "metadata": {
        "collapsed": false
      }
    }, 
    {
      "source": [
        "Plot a scatter matrix\n\n"
      ], 
      "cell_type": "markdown", 
      "metadata": {}
    }, 
    {
      "execution_count": null, 
      "cell_type": "code", 
      "source": [
        "# Express the names as categories\ncategories = pandas.Categorical(data['name'])\n\n# The parameter 'c' is passed to plt.scatter and will control the color\nplotting.scatter_matrix(data, c=categories.labels, marker='o')\n\nfig = plt.gcf()\nfig.suptitle(\"blue: setosa, green: versicolor, red: virginica\", size=13)"
      ], 
      "outputs": [], 
      "metadata": {
        "collapsed": false
      }
    }, 
    {
      "source": [
        "Statistical analysis\n\n"
      ], 
      "cell_type": "markdown", 
      "metadata": {}
    }, 
    {
      "execution_count": null, 
      "cell_type": "code", 
      "source": [
        "# Let us try to explain the sepal length as a function of the petal\n# width and the category of iris\n\nmodel = ols('sepal_width ~ name + petal_length', data).fit()\nprint(model.summary())\n\n# Now formulate a \"contrast\", to test if the offset for versicolor and\n# virginica are identical\n\nprint('Testing the difference between effect of versicolor and virginica')\nprint(model.f_test([0, 1, -1, 0]))\nplt.show()"
      ], 
      "outputs": [], 
      "metadata": {
        "collapsed": false
      }
    }
  ], 
  "metadata": {
    "kernelspec": {
      "display_name": "Python 2", 
      "name": "python2", 
      "language": "python"
    }, 
    "language_info": {
      "mimetype": "text/x-python", 
      "nbconvert_exporter": "python", 
      "name": "python", 
      "file_extension": ".py", 
      "version": "2.7.12", 
      "pygments_lexer": "ipython2", 
      "codemirror_mode": {
        "version": 2, 
        "name": "ipython"
      }
    }
  }
}