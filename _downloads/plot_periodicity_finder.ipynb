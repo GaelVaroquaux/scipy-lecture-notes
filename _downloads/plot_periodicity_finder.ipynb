{
  "nbformat_minor": 0, 
  "nbformat": 4, 
  "cells": [
    {
      "execution_count": null, 
      "cell_type": "code", 
      "source": [
        "%matplotlib inline"
      ], 
      "outputs": [], 
      "metadata": {
        "collapsed": false
      }
    }, 
    {
      "source": [
        "\n# Crude periodicity finding\n\n\nDiscover the periods in ../../data/populations.txt\n\n"
      ], 
      "cell_type": "markdown", 
      "metadata": {}
    }, 
    {
      "execution_count": null, 
      "cell_type": "code", 
      "source": [
        "import numpy as np\nimport matplotlib.pyplot as plt\n\ndata = np.loadtxt('../../../../data/populations.txt')\nyears = data[:, 0]\npopulations = data[:, 1:]\n\nft_populations = np.fft.fft(populations, axis=0)\nfrequencies = np.fft.fftfreq(populations.shape[0], years[1] - years[0])\nperiods = 1 / frequencies\n\nplt.figure()\nplt.plot(years, populations * 1e-3)\nplt.xlabel('Year')\nplt.ylabel('Population number ($\\cdot10^3$)')\nplt.legend(['hare', 'lynx', 'carrot'], loc=1)\n\nplt.figure()\nplt.plot(periods, abs(ft_populations) * 1e-3, 'o')\nplt.xlim(0, 22)\nplt.xlabel('Period')\nplt.ylabel('Power ($\\cdot10^3$)')\n\nplt.show()\n\n# There's probably a period of around 10 years (obvious from the\n# plot), but for this crude a method, there's not enough data to say\n# much more."
      ], 
      "outputs": [], 
      "metadata": {
        "collapsed": false
      }
    }
  ], 
  "metadata": {
    "kernelspec": {
      "display_name": "Python 2", 
      "name": "python2", 
      "language": "python"
    }, 
    "language_info": {
      "mimetype": "text/x-python", 
      "nbconvert_exporter": "python", 
      "name": "python", 
      "file_extension": ".py", 
      "version": "2.7.12", 
      "pygments_lexer": "ipython2", 
      "codemirror_mode": {
        "version": 2, 
        "name": "ipython"
      }
    }
  }
}