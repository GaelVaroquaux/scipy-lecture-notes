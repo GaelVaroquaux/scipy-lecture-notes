{
  "metadata": {
    "language_info": {
      "pygments_lexer": "ipython3",
      "name": "python",
      "nbconvert_exporter": "python",
      "codemirror_mode": {
        "name": "ipython",
        "version": 3
      },
      "version": "3.5.4",
      "file_extension": ".py",
      "mimetype": "text/x-python"
    },
    "kernelspec": {
      "language": "python",
      "display_name": "Python 3",
      "name": "python3"
    }
  },
  "cells": [
    {
      "source": [
        "%matplotlib inline"
      ],
      "metadata": {
        "collapsed": false
      },
      "execution_count": null,
      "cell_type": "code",
      "outputs": []
    },
    {
      "source": [
        "\nLabelling connected components of an image\n===========================================\n\nThis example shows how to label connected components of a binary image, using\nthe dedicated skimage.measure.label function.\n\n"
      ],
      "metadata": {},
      "cell_type": "markdown"
    },
    {
      "source": [
        "from skimage import measure\nfrom skimage import filters\nimport matplotlib.pyplot as plt\nimport numpy as np\n\nn = 12\nl = 256\nnp.random.seed(1)\nim = np.zeros((l, l))\npoints = l * np.random.random((2, n ** 2))\nim[(points[0]).astype(np.int), (points[1]).astype(np.int)] = 1\nim = filters.gaussian_filter(im, sigma= l / (4. * n))\nblobs = im > 0.7 * im.mean()\n\nall_labels = measure.label(blobs)\nblobs_labels = measure.label(blobs, background=0)\n\nplt.figure(figsize=(9, 3.5))\nplt.subplot(131)\nplt.imshow(blobs, cmap='gray')\nplt.axis('off')\nplt.subplot(132)\nplt.imshow(all_labels, cmap='spectral')\nplt.axis('off')\nplt.subplot(133)\nplt.imshow(blobs_labels, cmap='spectral')\nplt.axis('off')\n\nplt.tight_layout()\nplt.show()"
      ],
      "metadata": {
        "collapsed": false
      },
      "execution_count": null,
      "cell_type": "code",
      "outputs": []
    }
  ],
  "nbformat_minor": 0,
  "nbformat": 4
}