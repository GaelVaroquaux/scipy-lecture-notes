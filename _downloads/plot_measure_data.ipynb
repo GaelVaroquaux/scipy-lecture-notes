{
  "nbformat_minor": 0, 
  "nbformat": 4, 
  "cells": [
    {
      "execution_count": null, 
      "cell_type": "code", 
      "source": [
        "%matplotlib inline"
      ], 
      "outputs": [], 
      "metadata": {
        "collapsed": false
      }
    }, 
    {
      "source": [
        "\nMeasurements from images\n==========================\n\nThis examples shows how to measure quantities from various images.\n\n\n"
      ], 
      "cell_type": "markdown", 
      "metadata": {}
    }, 
    {
      "execution_count": null, 
      "cell_type": "code", 
      "source": [
        "import numpy as np\nfrom scipy import ndimage\nimport matplotlib.pyplot as plt\n\nnp.random.seed(1)\nn = 10\nl = 256\nim = np.zeros((l, l))\npoints = l*np.random.random((2, n**2))\nim[(points[0]).astype(np.int), (points[1]).astype(np.int)] = 1\nim = ndimage.gaussian_filter(im, sigma=l/(4.*n))\n\nmask = im > im.mean()\n\nlabel_im, nb_labels = ndimage.label(mask)\n\nsizes = ndimage.sum(mask, label_im, range(nb_labels + 1))\nmask_size = sizes < 1000\nremove_pixel = mask_size[label_im]\nlabel_im[remove_pixel] = 0\nlabels = np.unique(label_im)\nlabel_clean = np.searchsorted(labels, label_im)\n\n\nplt.figure(figsize=(6 ,3))\n\nplt.subplot(121)\nplt.imshow(label_im, cmap=plt.cm.spectral)\nplt.axis('off')\nplt.subplot(122)\nplt.imshow(label_clean, vmax=nb_labels, cmap=plt.cm.spectral)\nplt.axis('off')\n\nplt.subplots_adjust(wspace=0.01, hspace=0.01, top=1, bottom=0, left=0, right=1)\nplt.show()"
      ], 
      "outputs": [], 
      "metadata": {
        "collapsed": false
      }
    }
  ], 
  "metadata": {
    "kernelspec": {
      "display_name": "Python 2", 
      "name": "python2", 
      "language": "python"
    }, 
    "language_info": {
      "mimetype": "text/x-python", 
      "nbconvert_exporter": "python", 
      "name": "python", 
      "file_extension": ".py", 
      "version": "2.7.12", 
      "pygments_lexer": "ipython2", 
      "codemirror_mode": {
        "version": 2, 
        "name": "ipython"
      }
    }
  }
}