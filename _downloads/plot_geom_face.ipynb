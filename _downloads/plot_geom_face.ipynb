{
  "nbformat_minor": 0, 
  "nbformat": 4, 
  "cells": [
    {
      "execution_count": null, 
      "cell_type": "code", 
      "source": [
        "%matplotlib inline"
      ], 
      "outputs": [], 
      "metadata": {
        "collapsed": false
      }
    }, 
    {
      "source": [
        "\nGeometrical transformations\n==============================\n\nThis examples demos some simple geometrical transformations on a Racoon face.\n\n"
      ], 
      "cell_type": "markdown", 
      "metadata": {}
    }, 
    {
      "execution_count": null, 
      "cell_type": "code", 
      "source": [
        "import numpy as np\nimport scipy.misc\nfrom scipy import ndimage\nimport matplotlib.pyplot as plt\n\nface = scipy.misc.face(gray=True)\nlx, ly = face.shape\n# Cropping\ncrop_face = face[lx//4:-lx//4, ly//4:-ly//4]\n# up <-> down flip\nflip_ud_face = np.flipud(face)\n# rotation\nrotate_face = ndimage.rotate(face, 45)\nrotate_face_noreshape = ndimage.rotate(face, 45, reshape=False)\n\nplt.figure(figsize=(12.5, 2.5))\n\n\nplt.subplot(151)\nplt.imshow(face, cmap=plt.cm.gray)\nplt.axis('off')\nplt.subplot(152)\nplt.imshow(crop_face, cmap=plt.cm.gray)\nplt.axis('off')\nplt.subplot(153)\nplt.imshow(flip_ud_face, cmap=plt.cm.gray)\nplt.axis('off')\nplt.subplot(154)\nplt.imshow(rotate_face, cmap=plt.cm.gray)\nplt.axis('off')\nplt.subplot(155)\nplt.imshow(rotate_face_noreshape, cmap=plt.cm.gray)\nplt.axis('off')\n\nplt.subplots_adjust(wspace=0.02, hspace=0.3, top=1, bottom=0.1, left=0,\n                    right=1)\n\nplt.show()"
      ], 
      "outputs": [], 
      "metadata": {
        "collapsed": false
      }
    }
  ], 
  "metadata": {
    "kernelspec": {
      "display_name": "Python 2", 
      "name": "python2", 
      "language": "python"
    }, 
    "language_info": {
      "mimetype": "text/x-python", 
      "nbconvert_exporter": "python", 
      "name": "python", 
      "file_extension": ".py", 
      "version": "2.7.12", 
      "pygments_lexer": "ipython2", 
      "codemirror_mode": {
        "version": 2, 
        "name": "ipython"
      }
    }
  }
}