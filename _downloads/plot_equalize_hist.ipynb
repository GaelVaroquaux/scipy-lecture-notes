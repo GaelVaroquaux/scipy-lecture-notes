{
  "nbformat_minor": 0, 
  "nbformat": 4, 
  "cells": [
    {
      "execution_count": null, 
      "cell_type": "code", 
      "source": [
        "%matplotlib inline"
      ], 
      "outputs": [], 
      "metadata": {
        "collapsed": false
      }
    }, 
    {
      "source": [
        "\nEqualizing the histogram of an image\n=====================================\n\nHistogram equalizing makes images have a uniform histogram.\n\n"
      ], 
      "cell_type": "markdown", 
      "metadata": {}
    }, 
    {
      "execution_count": null, 
      "cell_type": "code", 
      "source": [
        "from skimage import data, exposure\nimport matplotlib.pyplot as plt\n\ncamera = data.camera()\ncamera_equalized = exposure.equalize_hist(camera)\n\nplt.figure(figsize=(7, 3))\n\nplt.subplot(121)\nplt.imshow(camera, cmap='gray', interpolation='nearest')\nplt.axis('off')\nplt.subplot(122)\nplt.imshow(camera_equalized, cmap='gray', interpolation='nearest')\nplt.axis('off')\nplt.tight_layout()\nplt.show()"
      ], 
      "outputs": [], 
      "metadata": {
        "collapsed": false
      }
    }
  ], 
  "metadata": {
    "kernelspec": {
      "display_name": "Python 2", 
      "name": "python2", 
      "language": "python"
    }, 
    "language_info": {
      "mimetype": "text/x-python", 
      "nbconvert_exporter": "python", 
      "name": "python", 
      "file_extension": ".py", 
      "version": "2.7.12", 
      "pygments_lexer": "ipython2", 
      "codemirror_mode": {
        "version": 2, 
        "name": "ipython"
      }
    }
  }
}