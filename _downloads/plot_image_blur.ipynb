{
  "nbformat_minor": 0, 
  "nbformat": 4, 
  "cells": [
    {
      "execution_count": null, 
      "cell_type": "code", 
      "source": [
        "%matplotlib inline"
      ], 
      "outputs": [], 
      "metadata": {
        "collapsed": false
      }
    }, 
    {
      "source": [
        "\n# Simple image blur by convolution with a Gaussian kernel\n\n\n\n"
      ], 
      "cell_type": "markdown", 
      "metadata": {}
    }, 
    {
      "execution_count": null, 
      "cell_type": "code", 
      "source": [
        "import numpy as np\nfrom scipy import fftpack\nimport matplotlib.pyplot as plt\n\n# read image\nimg = plt.imread('../../../../data/elephant.png')\n\n# prepare an 1-D Gaussian convolution kernel\nt = np.linspace(-10, 10, 30)\nbump = np.exp(-0.1*t**2)\nbump /= np.trapz(bump) # normalize the integral to 1\n\n# make a 2-D kernel out of it\nkernel = bump[:, np.newaxis] * bump[np.newaxis, :]\n\n# padded fourier transform, with the same shape as the image\nkernel_ft = fftpack.fft2(kernel, shape=img.shape[:2], axes=(0, 1))\n\n# convolve\nimg_ft = fftpack.fft2(img, axes=(0, 1))\nimg2_ft = kernel_ft[:, :, np.newaxis] * img_ft\nimg2 = fftpack.ifft2(img2_ft, axes=(0, 1)).real\n\n# clip values to range\nimg2 = np.clip(img2, 0, 1)\n\n# plot output\nplt.imshow(img2)\nplt.show()\n\n# Further exercise (only if you are familiar with this stuff):\n#\n# A \"wrapped border\" appears in the upper left and top edges of the\n# image. This is because the padding is not done correctly, and does\n# not take the kernel size into account (so the convolution \"flows out\n# of bounds of the image\").  Try to remove this artifact."
      ], 
      "outputs": [], 
      "metadata": {
        "collapsed": false
      }
    }
  ], 
  "metadata": {
    "kernelspec": {
      "display_name": "Python 2", 
      "name": "python2", 
      "language": "python"
    }, 
    "language_info": {
      "mimetype": "text/x-python", 
      "nbconvert_exporter": "python", 
      "name": "python", 
      "file_extension": ".py", 
      "version": "2.7.12", 
      "pygments_lexer": "ipython2", 
      "codemirror_mode": {
        "version": 2, 
        "name": "ipython"
      }
    }
  }
}