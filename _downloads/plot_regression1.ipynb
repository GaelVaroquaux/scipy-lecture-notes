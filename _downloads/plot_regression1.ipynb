{
  "nbformat_minor": 0, 
  "nbformat": 4, 
  "cells": [
    {
      "execution_count": null, 
      "cell_type": "code", 
      "source": [
        "%matplotlib inline"
      ], 
      "outputs": [], 
      "metadata": {
        "collapsed": false
      }
    }, 
    {
      "source": [
        "\nSimple Regression\n====================\n\nFit a simple linear regression using 'statsmodels', compute corresponding\np-values.\n\n"
      ], 
      "cell_type": "markdown", 
      "metadata": {}
    }, 
    {
      "execution_count": null, 
      "cell_type": "code", 
      "source": [
        "# Original author: Thomas Haslwanter\n\nimport numpy as np\nimport matplotlib.pyplot as plt\nimport pandas\n\n# For statistics. Requires statsmodels 5.0 or more\nfrom statsmodels.formula.api import ols\n# Analysis of Variance (ANOVA) on linear models\nfrom statsmodels.stats.anova import anova_lm"
      ], 
      "outputs": [], 
      "metadata": {
        "collapsed": false
      }
    }, 
    {
      "source": [
        "Generate and show the data\n\n"
      ], 
      "cell_type": "markdown", 
      "metadata": {}
    }, 
    {
      "execution_count": null, 
      "cell_type": "code", 
      "source": [
        "x = np.linspace(-5, 5, 20)\n\n# To get reproducable values, provide a seed value\nnp.random.seed(1)\n\ny = -5 + 3*x + 4 * np.random.normal(size=x.shape)\n\n# Plot the data\nplt.figure(figsize=(5, 4))\nplt.plot(x, y, 'o')"
      ], 
      "outputs": [], 
      "metadata": {
        "collapsed": false
      }
    }, 
    {
      "source": [
        "Multilinear regression model, calculating fit, P-values, confidence\nintervals etc.\n\n"
      ], 
      "cell_type": "markdown", 
      "metadata": {}
    }, 
    {
      "execution_count": null, 
      "cell_type": "code", 
      "source": [
        "# Convert the data into a Pandas DataFrame to use the formulas framework\n# in statsmodels\ndata = pandas.DataFrame({'x': x, 'y': y})\n\n# Fit the model\nmodel = ols(\"y ~ x\", data).fit()\n\n# Print the summary\nprint(model.summary())\n\n# Peform analysis of variance on fitted linear model\nanova_results = anova_lm(model)\n\nprint('\\nANOVA results')\nprint(anova_results)"
      ], 
      "outputs": [], 
      "metadata": {
        "collapsed": false
      }
    }, 
    {
      "source": [
        "Plot the fitted model\n\n"
      ], 
      "cell_type": "markdown", 
      "metadata": {}
    }, 
    {
      "execution_count": null, 
      "cell_type": "code", 
      "source": [
        "# Retrieve the parameter estimates\noffset, coef = model._results.params\nplt.plot(x, x*coef + offset)\nplt.xlabel('x')\nplt.ylabel('y')\n\nplt.show()"
      ], 
      "outputs": [], 
      "metadata": {
        "collapsed": false
      }
    }
  ], 
  "metadata": {
    "kernelspec": {
      "display_name": "Python 2", 
      "name": "python2", 
      "language": "python"
    }, 
    "language_info": {
      "mimetype": "text/x-python", 
      "nbconvert_exporter": "python", 
      "name": "python", 
      "file_extension": ".py", 
      "version": "2.7.12", 
      "pygments_lexer": "ipython2", 
      "codemirror_mode": {
        "version": 2, 
        "name": "ipython"
      }
    }
  }
}