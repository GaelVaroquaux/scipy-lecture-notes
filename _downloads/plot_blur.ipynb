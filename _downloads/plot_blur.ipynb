{
  "nbformat_minor": 0, 
  "nbformat": 4, 
  "cells": [
    {
      "execution_count": null, 
      "cell_type": "code", 
      "source": [
        "%matplotlib inline"
      ], 
      "outputs": [], 
      "metadata": {
        "collapsed": false
      }
    }, 
    {
      "source": [
        "\nBlurring of images\n===================\n\nAn example showing various processes that blur an image.\n\n"
      ], 
      "cell_type": "markdown", 
      "metadata": {}
    }, 
    {
      "execution_count": null, 
      "cell_type": "code", 
      "source": [
        "import scipy.misc\nfrom scipy import ndimage\nimport matplotlib.pyplot as plt\n\nface = scipy.misc.face(gray=True)\nblurred_face = ndimage.gaussian_filter(face, sigma=3)\nvery_blurred = ndimage.gaussian_filter(face, sigma=5)\nlocal_mean = ndimage.uniform_filter(face, size=11)\n\nplt.figure(figsize=(9, 3))\nplt.subplot(131)\nplt.imshow(blurred_face, cmap=plt.cm.gray)\nplt.axis('off')\nplt.subplot(132)\nplt.imshow(very_blurred, cmap=plt.cm.gray)\nplt.axis('off')\nplt.subplot(133)\nplt.imshow(local_mean, cmap=plt.cm.gray)\nplt.axis('off')\n\nplt.subplots_adjust(wspace=0, hspace=0., top=0.99, bottom=0.01,\n                    left=0.01, right=0.99)\n\nplt.show()"
      ], 
      "outputs": [], 
      "metadata": {
        "collapsed": false
      }
    }
  ], 
  "metadata": {
    "kernelspec": {
      "display_name": "Python 2", 
      "name": "python2", 
      "language": "python"
    }, 
    "language_info": {
      "mimetype": "text/x-python", 
      "nbconvert_exporter": "python", 
      "name": "python", 
      "file_extension": ".py", 
      "version": "2.7.12", 
      "pygments_lexer": "ipython2", 
      "codemirror_mode": {
        "version": 2, 
        "name": "ipython"
      }
    }
  }
}