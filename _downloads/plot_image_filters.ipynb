{
  "nbformat_minor": 0, 
  "nbformat": 4, 
  "cells": [
    {
      "execution_count": null, 
      "cell_type": "code", 
      "source": [
        "%matplotlib inline"
      ], 
      "outputs": [], 
      "metadata": {
        "collapsed": false
      }
    }, 
    {
      "source": [
        "\n# Plot filtering on images\n\n\nDemo filtering for denoising of images.\n\n"
      ], 
      "cell_type": "markdown", 
      "metadata": {}
    }, 
    {
      "execution_count": null, 
      "cell_type": "code", 
      "source": [
        "# Load some data\nfrom scipy import misc\nface = misc.face(gray=True)\nface = face[:512, -512:]  # crop out square on right\n\n# Apply a variety of filters\nfrom scipy import ndimage\nfrom scipy import signal\nfrom matplotlib import pyplot as plt\n\nimport numpy as np\nnoisy_face = np.copy(face).astype(np.float)\nnoisy_face += face.std() * 0.5 * np.random.standard_normal(face.shape)\nblurred_face = ndimage.gaussian_filter(noisy_face, sigma=3)\nmedian_face = ndimage.median_filter(noisy_face, size=5)\nwiener_face = signal.wiener(noisy_face, (5, 5))\n\nplt.figure(figsize=(12, 3.5))\nplt.subplot(141)\nplt.imshow(noisy_face, cmap=plt.cm.gray)\nplt.axis('off')\nplt.title('noisy')\n\nplt.subplot(142)\nplt.imshow(blurred_face, cmap=plt.cm.gray)\nplt.axis('off')\nplt.title('Gaussian filter')\n\nplt.subplot(143)\nplt.imshow(median_face, cmap=plt.cm.gray)\nplt.axis('off')\nplt.title('median filter')\n\nplt.subplot(144)\nplt.imshow(wiener_face, cmap=plt.cm.gray)\nplt.title('Wiener filter')\nplt.axis('off')\n\nplt.subplots_adjust(wspace=.05, left=.01, bottom=.01, right=.99, top=.99)\n\nplt.show()"
      ], 
      "outputs": [], 
      "metadata": {
        "collapsed": false
      }
    }
  ], 
  "metadata": {
    "kernelspec": {
      "display_name": "Python 2", 
      "name": "python2", 
      "language": "python"
    }, 
    "language_info": {
      "mimetype": "text/x-python", 
      "nbconvert_exporter": "python", 
      "name": "python", 
      "file_extension": ".py", 
      "version": "2.7.12", 
      "pygments_lexer": "ipython2", 
      "codemirror_mode": {
        "version": 2, 
        "name": "ipython"
      }
    }
  }
}